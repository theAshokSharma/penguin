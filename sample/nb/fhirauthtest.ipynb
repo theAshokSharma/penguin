{
 "cells": [
  {
   "cell_type": "code",
   "execution_count": 1,
   "id": "3eb647db-b4f2-4479-ac8d-bedb575e44dd",
   "metadata": {},
   "outputs": [],
   "source": [
    "import httpx\n",
    "from fhirclient import client\n"
   ]
  },
  {
   "cell_type": "code",
   "execution_count": 2,
   "id": "8de6c5f3-ddd3-4803-a4a3-8dafd57b161e",
   "metadata": {},
   "outputs": [],
   "source": [
    "smart_defaults = {\n",
    "    'app_id': \"6079e18c-b8d7-48a8-b87a-e5a74b68e0af\",  # os.environ.get(\"EPIC_CLIENT_ID\"),\n",
    "    'api_base': \"https://fhir.epic.com/interconnect-fhir-oauth/api/FHIR/R4\", # os.environ.get('EPIC_API_BASE_R4'),\n",
    "    'redirect_uri': \"http://localhost:5465/fhir-app\", # os.environ.get('EPIC_REDIRECT_URL'),\n",
    "    'scope': 'patient/Patient.read patient/Observation.read launch/patient online_access openid profile'\n",
    "}"
   ]
  },
  {
   "cell_type": "code",
   "execution_count": 3,
   "id": "2df049e2-d665-4dd6-9061-2db893f1fd63",
   "metadata": {},
   "outputs": [],
   "source": [
    "smart = client.FHIRClient(settings=smart_defaults)"
   ]
  },
  {
   "cell_type": "code",
   "execution_count": 4,
   "id": "05e088e3-a55a-470e-ab90-1457bc97098b",
   "metadata": {},
   "outputs": [
    {
     "name": "stdout",
     "output_type": "stream",
     "text": [
      "False\n"
     ]
    }
   ],
   "source": [
    "print (smart.ready)"
   ]
  },
  {
   "cell_type": "code",
   "execution_count": 5,
   "id": "3fc9b02f-bb11-4f71-b91e-770ca19ea12f",
   "metadata": {},
   "outputs": [
    {
     "data": {
      "text/plain": [
       "False"
      ]
     },
     "execution_count": 5,
     "metadata": {},
     "output_type": "execute_result"
    }
   ],
   "source": [
    "smart.prepare()"
   ]
  },
  {
   "cell_type": "code",
   "execution_count": 6,
   "id": "b5f44965-e989-4138-b90c-98ce0baf504e",
   "metadata": {},
   "outputs": [
    {
     "data": {
      "text/plain": [
       "False"
      ]
     },
     "execution_count": 6,
     "metadata": {},
     "output_type": "execute_result"
    }
   ],
   "source": [
    "smart.ready"
   ]
  },
  {
   "cell_type": "code",
   "execution_count": 7,
   "id": "0a29ab11-f66e-4dbc-9751-40fc3e03f9c6",
   "metadata": {},
   "outputs": [
    {
     "data": {
      "text/plain": [
       "'https://fhir.epic.com/interconnect-fhir-oauth/oauth2/authorize?response_type=code&client_id=6079e18c-b8d7-48a8-b87a-e5a74b68e0af&redirect_uri=http%3A%2F%2Flocalhost%3A5465%2Ffhir-app&scope=launch%2Fpatient+patient%2FPatient.read+patient%2FObservation.read+launch%2Fpatient+online_access+openid+profile&aud=https%3A%2F%2Ffhir.epic.com%2Finterconnect-fhir-oauth%2Fapi%2FFHIR%2FR4&state=26878480'"
      ]
     },
     "execution_count": 7,
     "metadata": {},
     "output_type": "execute_result"
    }
   ],
   "source": [
    "smart.authorize_url"
   ]
  },
  {
   "cell_type": "code",
   "execution_count": 10,
   "id": "23198ead-c105-487c-a0d7-1ae0dfc68d0d",
   "metadata": {},
   "outputs": [],
   "source": [
    "r = httpx.post(smart.authorize_url)"
   ]
  },
  {
   "cell_type": "code",
   "execution_count": 11,
   "id": "e9a74e46-7bde-45fc-80b9-43bbf1e4a6a1",
   "metadata": {},
   "outputs": [
    {
     "name": "stdout",
     "output_type": "stream",
     "text": [
      "<Response [200 OK]>\n"
     ]
    }
   ],
   "source": [
    "print(r)"
   ]
  },
  {
   "cell_type": "code",
   "execution_count": null,
   "id": "a99c104f-ddd0-4afa-89e9-7d30981712c1",
   "metadata": {},
   "outputs": [],
   "source": []
  }
 ],
 "metadata": {
  "kernelspec": {
   "display_name": "Python 3 (ipykernel)",
   "language": "python",
   "name": "python3"
  },
  "language_info": {
   "codemirror_mode": {
    "name": "ipython",
    "version": 3
   },
   "file_extension": ".py",
   "mimetype": "text/x-python",
   "name": "python",
   "nbconvert_exporter": "python",
   "pygments_lexer": "ipython3",
   "version": "3.10.8"
  }
 },
 "nbformat": 4,
 "nbformat_minor": 5
}
