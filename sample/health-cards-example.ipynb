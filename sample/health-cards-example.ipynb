{
 "cells": [
  {
   "cell_type": "markdown",
   "id": "b36ee82c-439f-41f4-8f11-75cf9f0465d8",
   "metadata": {},
   "source": [
    "## SMART Health Card\n",
    "\n",
    "##### https://github.com/dvci/health-cards-walkthrough/blob/main/SMARTHealthCardsPython.ipynb"
   ]
  },
  {
   "cell_type": "code",
   "execution_count": 2,
   "id": "3dc52a68-52a3-4b18-8d13-97ef262800d5",
   "metadata": {},
   "outputs": [
    {
     "ename": "ModuleNotFoundError",
     "evalue": "No module named 'PIL'",
     "output_type": "error",
     "traceback": [
      "\u001b[0;31m---------------------------------------------------------------------------\u001b[0m",
      "\u001b[0;31mModuleNotFoundError\u001b[0m                       Traceback (most recent call last)",
      "Cell \u001b[0;32mIn [2], line 7\u001b[0m\n\u001b[1;32m      4\u001b[0m \u001b[38;5;28;01mimport\u001b[39;00m \u001b[38;5;21;01mmath\u001b[39;00m\n\u001b[1;32m      6\u001b[0m \u001b[38;5;66;03m# from pyzbar.pyzbar import decode\u001b[39;00m\n\u001b[0;32m----> 7\u001b[0m \u001b[38;5;28;01mfrom\u001b[39;00m \u001b[38;5;21;01mPIL\u001b[39;00m \u001b[38;5;28;01mimport\u001b[39;00m Image\n\u001b[1;32m      8\u001b[0m \u001b[38;5;28;01mimport\u001b[39;00m \u001b[38;5;21;01mqrcode\u001b[39;00m\n\u001b[1;32m      9\u001b[0m \u001b[38;5;28;01mfrom\u001b[39;00m \u001b[38;5;21;01mjwcrypto\u001b[39;00m \u001b[38;5;28;01mimport\u001b[39;00m jwk \u001b[38;5;28;01mas\u001b[39;00m jwk_crypto\n",
      "\u001b[0;31mModuleNotFoundError\u001b[0m: No module named 'PIL'"
     ]
    }
   ],
   "source": [
    "import json\n",
    "from datetime import datetime\n",
    "import zlib\n",
    "import math\n",
    "\n",
    "# from pyzbar.pyzbar import decode\n",
    "from PIL import Image\n",
    "import qrcode\n",
    "from jwcrypto import jwk as jwk_crypto\n",
    "from jose import jws, jwk\n",
    "from jose.constants import ALGORITHMS\n"
   ]
  },
  {
   "cell_type": "code",
   "execution_count": null,
   "id": "1ece7f79-506c-4f05-9bf8-ab82e2693c8d",
   "metadata": {},
   "outputs": [],
   "source": [
    "fhir_bundle = {\n",
    "  \"resourceType\": \"Bundle\",\n",
    "  \"type\": \"collection\",\n",
    "  \"entry\": [\n",
    "    {\n",
    "      \"fullUrl\": \"resource:0\",\n",
    "      \"resource\": {\n",
    "        \"resourceType\": \"Patient\",\n",
    "        \"name\": [\n",
    "          {\n",
    "            \"family\": \"Anyperson\",\n",
    "            \"given\": [\n",
    "              \"John\",\n",
    "              \"B.\"\n",
    "            ]\n",
    "          }\n",
    "        ],\n",
    "        \"birthDate\": \"1951-01-20\"\n",
    "      }\n",
    "    },\n",
    "    {\n",
    "      \"fullUrl\": \"resource:1\",\n",
    "      \"resource\": {\n",
    "        \"resourceType\": \"Immunization\",\n",
    "        \"status\": \"completed\",\n",
    "        \"vaccineCode\": {\n",
    "          \"coding\": [\n",
    "            {\n",
    "              \"system\": \"http://hl7.org/fhir/sid/cvx\",\n",
    "              \"code\": \"207\"\n",
    "            }\n",
    "          ]\n",
    "        },\n",
    "        \"patient\": {\n",
    "          \"reference\": \"resource:0\"\n",
    "        },\n",
    "        \"occurrenceDateTime\": \"2021-01-01\",\n",
    "        \"performer\": [\n",
    "          {\n",
    "            \"actor\": {\n",
    "              \"display\": \"ABC General Hospital\"\n",
    "            }\n",
    "          }\n",
    "        ],\n",
    "        \"lotNumber\": \"0000001\"\n",
    "      }\n",
    "    },\n",
    "    {\n",
    "      \"fullUrl\": \"resource:2\",\n",
    "      \"resource\": {\n",
    "        \"resourceType\": \"Immunization\",\n",
    "        \"status\": \"completed\",\n",
    "        \"vaccineCode\": {\n",
    "          \"coding\": [\n",
    "            {\n",
    "              \"system\": \"http://hl7.org/fhir/sid/cvx\",\n",
    "              \"code\": \"207\"\n",
    "            }\n",
    "          ]\n",
    "        },\n",
    "        \"patient\": {\n",
    "          \"reference\": \"resource:0\"\n",
    "        },\n",
    "        \"occurrenceDateTime\": \"2021-01-29\",\n",
    "        \"performer\": [\n",
    "          {\n",
    "            \"actor\": {\n",
    "              \"display\": \"ABC General Hospital\"\n",
    "            }\n",
    "          }\n",
    "        ],\n",
    "        \"lotNumber\": \"0000007\"\n",
    "      }\n",
    "    }\n",
    "  ]\n",
    "}\n",
    "# print(fhir_bundle)"
   ]
  }
 ],
 "metadata": {
  "kernelspec": {
   "display_name": "Python 3 (ipykernel)",
   "language": "python",
   "name": "python3"
  },
  "language_info": {
   "codemirror_mode": {
    "name": "ipython",
    "version": 3
   },
   "file_extension": ".py",
   "mimetype": "text/x-python",
   "name": "python",
   "nbconvert_exporter": "python",
   "pygments_lexer": "ipython3",
   "version": "3.10.8"
  }
 },
 "nbformat": 4,
 "nbformat_minor": 5
}
