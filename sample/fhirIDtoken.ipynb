{
 "cells": [
  {
   "cell_type": "markdown",
   "metadata": {},
   "source": [
    "### Working with SMART on FHIR ID Tokens\n",
    "\n",
    "##### !pip3 install python-jose\n",
    "##### https://hl7.org/implement/standards/fhir/smart-app-launch/1.0.0/worked_example_id_token/"
   ]
  },
  {
   "cell_type": "code",
   "execution_count": 1,
   "metadata": {},
   "outputs": [],
   "source": [
    "from cryptography.hazmat.primitives.asymmetric import rsa\n",
    "import json\n",
    "import jose.jwk\n",
    "import jose.jwt\n",
    "import jose.constants"
   ]
  },
  {
   "cell_type": "markdown",
   "metadata": {},
   "source": [
    "#### Setup\n",
    "To create self-contained example, we'll generate a new RSA Key for a fake organization called \"my-ehr.org\", and we'll use that for the operations below."
   ]
  },
  {
   "cell_type": "code",
   "execution_count": 2,
   "metadata": {},
   "outputs": [
    {
     "ename": "AttributeError",
     "evalue": "module 'cryptography.hazmat.primitives.asymmetric.rsa' has no attribute 'generate'",
     "output_type": "error",
     "traceback": [
      "\u001b[0;31m---------------------------------------------------------------------------\u001b[0m",
      "\u001b[0;31mAttributeError\u001b[0m                            Traceback (most recent call last)",
      "Cell \u001b[0;32mIn [2], line 1\u001b[0m\n\u001b[0;32m----> 1\u001b[0m key \u001b[39m=\u001b[39m rsa\u001b[39m.\u001b[39;49mgenerate(key_size\u001b[39m=\u001b[39m\u001b[39m2048\u001b[39m)\n\u001b[1;32m      3\u001b[0m private \u001b[39m=\u001b[39m key\u001b[39m.\u001b[39mexportKey(\u001b[39m'\u001b[39m\u001b[39mPEM\u001b[39m\u001b[39m'\u001b[39m)\u001b[39m.\u001b[39mdecode()\n\u001b[1;32m      4\u001b[0m public \u001b[39m=\u001b[39m key\u001b[39m.\u001b[39mpublickey()\u001b[39m.\u001b[39mexportKey()\u001b[39m.\u001b[39mdecode()\n",
      "\u001b[0;31mAttributeError\u001b[0m: module 'cryptography.hazmat.primitives.asymmetric.rsa' has no attribute 'generate'"
     ]
    }
   ],
   "source": [
    "key = rsa.generate(key_size=2048)\n",
    "\n",
    "private = key.exportKey('PEM').decode()\n",
    "public = key.publickey().exportKey().decode()\n",
    "# print(public, \"\\n\\n\", private)"
   ]
  },
  {
   "cell_type": "markdown",
   "metadata": {},
   "source": [
    "#### Creating an ID Token (for servers)\n",
    "Servers will create a signed JWT by following a process like this.\n",
    "\n",
    "##### Create a set of claims\n",
    "These should include:\n",
    "```\n",
    "sub: the user \n",
    "aud: the app for whom this ID Token is being produced\n",
    "iss: an identifier for this EHR system)\n",
    "profile: the absolute URL of the FHIR resource representing the current user\n",
    "```\n",
    "##### Encode them in a JWT\n",
    "Signing with the server's private key"
   ]
  },
  {
   "cell_type": "code",
   "execution_count": null,
   "metadata": {},
   "outputs": [],
   "source": [
    "claims = {\n",
    "  \"sub\": \"Ashok\",\n",
    "  \"aud\": \"penguin\",\n",
    "  \"iss\": \"https://my-ehr.org/fhir\",\n",
    "  \"fhirUser\": \"https://my-ehr.org/fhir/Practitioner/123\"\n",
    "}\n",
    "\n",
    "\n",
    "id_token = jose.jwt.encode(\n",
    "    claims,\n",
    "    key,\n",
    "    algorithm='RS384')\n",
    "\n",
    "# print(id_token)"
   ]
  },
  {
   "cell_type": "markdown",
   "metadata": {},
   "source": [
    "#### Validating and using an ID Token (for clients)\n",
    "\n",
    "A client obtains the ID Token as the result of an authorization operation. To validate the token, the client fetches the servers's public key, and then decodes the token. While decoding the token, the client must verify that the audience ('aud') matches its own client_id."
   ]
  },
  {
   "cell_type": "code",
   "execution_count": null,
   "metadata": {},
   "outputs": [],
   "source": [
    "jose.jwt.decode(id_token, public, audience='penguin')"
   ]
  },
  {
   "cell_type": "code",
   "execution_count": null,
   "metadata": {},
   "outputs": [],
   "source": [
    "from jose import jwt\n",
    "token = jwt.encode({'key': 'value'}, 'secret', algorithm='HS256')"
   ]
  }
 ],
 "metadata": {
  "kernelspec": {
   "display_name": "Python 3 (ipykernel)",
   "language": "python",
   "name": "python3"
  },
  "language_info": {
   "codemirror_mode": {
    "name": "ipython",
    "version": 3
   },
   "file_extension": ".py",
   "mimetype": "text/x-python",
   "name": "python",
   "nbconvert_exporter": "python",
   "pygments_lexer": "ipython3",
   "version": "3.10.8"
  },
  "vscode": {
   "interpreter": {
    "hash": "4890cb52469e7e585ee50fc175c4955ebb1ff682e97ca04a795fa4284271352b"
   }
  }
 },
 "nbformat": 4,
 "nbformat_minor": 4
}
