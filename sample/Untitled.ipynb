{
 "cells": [
  {
   "cell_type": "markdown",
   "id": "fe8603df-0906-4605-b3e5-452d4960e9cc",
   "metadata": {},
   "source": [
    "# FHIRClient example\n",
    "##### ( doesn't work )"
   ]
  },
  {
   "cell_type": "code",
   "execution_count": 1,
   "id": "84e60902-865a-4ab5-904a-c59f5d9ba0df",
   "metadata": {},
   "outputs": [],
   "source": [
    "from fhirclient import client\n",
    "settings = {\n",
    "    'app_id': 'a276192d-1e62-4e11-9ff8-a76728fee870',\n",
    "    'api_base': 'https://fhir.epic.com/interconnect-fhir-oauth/api/FHIR/R4',\n",
    "    'redirect_uri': 'http://localhost:9050/fhir-app',\n",
    "}"
   ]
  },
  {
   "cell_type": "code",
   "execution_count": 2,
   "id": "9d9dd965-00db-4dd6-ac00-0446fd16a29c",
   "metadata": {},
   "outputs": [],
   "source": [
    "smart = client.FHIRClient(settings=settings)"
   ]
  },
  {
   "cell_type": "code",
   "execution_count": 3,
   "id": "c30ca73f-b93b-42e4-92b0-2ea785a8d6af",
   "metadata": {},
   "outputs": [
    {
     "data": {
      "text/plain": [
       "False"
      ]
     },
     "execution_count": 3,
     "metadata": {},
     "output_type": "execute_result"
    }
   ],
   "source": [
    "smart.ready"
   ]
  },
  {
   "cell_type": "code",
   "execution_count": 4,
   "id": "b443bce7-6fca-4080-90b0-170a2817e762",
   "metadata": {},
   "outputs": [
    {
     "data": {
      "text/plain": [
       "False"
      ]
     },
     "execution_count": 4,
     "metadata": {},
     "output_type": "execute_result"
    }
   ],
   "source": [
    "smart.prepare()"
   ]
  },
  {
   "cell_type": "code",
   "execution_count": 5,
   "id": "6351bec5-ec86-4960-8560-1d9ebe1b1039",
   "metadata": {},
   "outputs": [
    {
     "data": {
      "text/plain": [
       "'https://fhir.epic.com/interconnect-fhir-oauth/oauth2/authorize?response_type=code&client_id=a276192d-1e62-4e11-9ff8-a76728fee870&redirect_uri=http%3A%2F%2Flocalhost%3A9050%2Ffhir-app&scope=launch%2Fpatient+user%2F%2A.%2A+patient%2F%2A.read+openid+profile&aud=https%3A%2F%2Ffhir.epic.com%2Finterconnect-fhir-oauth%2Fapi%2FFHIR%2FR4&state=d59997dd'"
      ]
     },
     "execution_count": 5,
     "metadata": {},
     "output_type": "execute_result"
    }
   ],
   "source": [
    "smart.authorize_url"
   ]
  },
  {
   "cell_type": "code",
   "execution_count": null,
   "id": "b4f6630e-d466-4a56-898a-e47dac466947",
   "metadata": {},
   "outputs": [],
   "source": [
    "import fhirclient.models.patient as p\n"
   ]
  },
  {
   "cell_type": "code",
   "execution_count": null,
   "id": "ee65d6b9-ce36-40e4-b724-64ae064f1427",
   "metadata": {},
   "outputs": [],
   "source": [
    "patient = p.Patient.read('erXuFYUfucBZaryVksYEcMg3', smart.server)\n",
    "patient.birthDate.isostring\n",
    "# '1963-06-12'\n",
    "smart.human_name(patient.name[0])\n",
    "# 'Christy Ebert'"
   ]
  },
  {
   "cell_type": "code",
   "execution_count": 7,
   "id": "1c54b756-5082-4ce9-925a-db983a89d803",
   "metadata": {},
   "outputs": [],
   "source": [
    "import urllib.parse as urlparse"
   ]
  },
  {
   "cell_type": "code",
   "execution_count": 8,
   "id": "2abb5cc6-7b07-48cf-94a8-e4c36e16a7e8",
   "metadata": {},
   "outputs": [],
   "source": [
    "url = 'http://localhost:9050/fhir-app/?code=eyJhbGciOiJSUzI1NiIsInR5cCI6IkpXVCJ9.eyJhdWQiOiJ1cm46b2lkOmZoaXIiLCJjbGllbnRfaWQiOiJhMjc2MTkyZC0xZTYyLTRlMTEtOWZmOC1hNzY3MjhmZWU4NzAiLCJlcGljLmVjaSI6InVybjplcGljOk9wZW4uRXBpYy1jdXJyZW50IiwiZXBpYy5tZXRhZGF0YSI6Im1XNTNOZm1Ed2dsNFpTUlc3WVpsUWpsTmZBM0FDMTdNcEx6Q0hGeVFsdjY3WUUwWFVVOHdwbkNkdE1CX25VNWJ1WXhrWms1Vm9Sdk81VU4tMVRySmR5QWh1VXdFWEVOQlRzc21zTVNvTHV6SGZOdFd0RXpXck1DcmJtYkdfMHhJIiwiZXBpYy50b2tlbnR5cGUiOiJjb2RlIiwiZXhwIjoxNjY5NTEwNjI2LCJpYXQiOjE2Njk1MTAzMjYsImlzcyI6InVybjpvaWQ6ZmhpciIsImp0aSI6IjUyMWU3ZGQzLTZlYWMtNDNhNS05NDY0LTUyZmI5Zjc1Y2QyOSIsIm5iZiI6MTY2OTUxMDMyNiwic3ViIjoiZWI0R2lhN0Z5aWp0UG1Ya3J0alJwUHczIn0.qVPsYXCNX23O7pgChHbmOlucSzVUtEk-E2-N-xlGP5oqob6lFGHqO9DMN9hbyAGO4ShVkmh6EMwAm961Bb1733cAxVXU2fKb4c3Zq3u2rtpW3nM6OMwLj_PAP79NUwEYZwWyWumdUynwqdgFYCsvvNd7WL1hLR4Q6d7TbOfQguhgm67MBz_lJ7BneBNxiKLE9BX8FHGTIB1k6vNtce2eUAfWoj1lMKDerrTR7TLc5wnrfabSwCKhJDq2d-TIFHvHpvZ04Krauqtx6MyyrA3QSWX_HYdhr6hDoFfv8bDJ_2F5gGfZWqcHTp85bw22jVXxpDDi5vPkvKdU686Ozc3plA&state=9fdee0a4'"
   ]
  },
  {
   "cell_type": "code",
   "execution_count": 11,
   "id": "b40ee2a8-b60e-495c-b81c-acee2fe1ec59",
   "metadata": {},
   "outputs": [
    {
     "data": {
      "text/plain": [
       "{'code': 'eyJhbGciOiJSUzI1NiIsInR5cCI6IkpXVCJ9.eyJhdWQiOiJ1cm46b2lkOmZoaXIiLCJjbGllbnRfaWQiOiJhMjc2MTkyZC0xZTYyLTRlMTEtOWZmOC1hNzY3MjhmZWU4NzAiLCJlcGljLmVjaSI6InVybjplcGljOk9wZW4uRXBpYy1jdXJyZW50IiwiZXBpYy5tZXRhZGF0YSI6Im1XNTNOZm1Ed2dsNFpTUlc3WVpsUWpsTmZBM0FDMTdNcEx6Q0hGeVFsdjY3WUUwWFVVOHdwbkNkdE1CX25VNWJ1WXhrWms1Vm9Sdk81VU4tMVRySmR5QWh1VXdFWEVOQlRzc21zTVNvTHV6SGZOdFd0RXpXck1DcmJtYkdfMHhJIiwiZXBpYy50b2tlbnR5cGUiOiJjb2RlIiwiZXhwIjoxNjY5NTEwNjI2LCJpYXQiOjE2Njk1MTAzMjYsImlzcyI6InVybjpvaWQ6ZmhpciIsImp0aSI6IjUyMWU3ZGQzLTZlYWMtNDNhNS05NDY0LTUyZmI5Zjc1Y2QyOSIsIm5iZiI6MTY2OTUxMDMyNiwic3ViIjoiZWI0R2lhN0Z5aWp0UG1Ya3J0alJwUHczIn0.qVPsYXCNX23O7pgChHbmOlucSzVUtEk-E2-N-xlGP5oqob6lFGHqO9DMN9hbyAGO4ShVkmh6EMwAm961Bb1733cAxVXU2fKb4c3Zq3u2rtpW3nM6OMwLj_PAP79NUwEYZwWyWumdUynwqdgFYCsvvNd7WL1hLR4Q6d7TbOfQguhgm67MBz_lJ7BneBNxiKLE9BX8FHGTIB1k6vNtce2eUAfWoj1lMKDerrTR7TLc5wnrfabSwCKhJDq2d-TIFHvHpvZ04Krauqtx6MyyrA3QSWX_HYdhr6hDoFfv8bDJ_2F5gGfZWqcHTp85bw22jVXxpDDi5vPkvKdU686Ozc3plA',\n",
       " 'state': '9fdee0a4'}"
      ]
     },
     "execution_count": 11,
     "metadata": {},
     "output_type": "execute_result"
    }
   ],
   "source": [
    "dict(urlparse.parse_qsl(urlparse.urlsplit(url)[3]))"
   ]
  },
  {
   "cell_type": "code",
   "execution_count": 12,
   "id": "6eb08cc4-e8e7-4bb2-a034-b508a5fae407",
   "metadata": {},
   "outputs": [],
   "source": [
    "args = dict(urlparse.parse_qsl(urlparse.urlsplit(url)[3]))"
   ]
  },
  {
   "cell_type": "code",
   "execution_count": 13,
   "id": "51aff433-cb7a-433a-8c24-bbf60cd5a296",
   "metadata": {},
   "outputs": [
    {
     "data": {
      "text/plain": [
       "{'code': 'eyJhbGciOiJSUzI1NiIsInR5cCI6IkpXVCJ9.eyJhdWQiOiJ1cm46b2lkOmZoaXIiLCJjbGllbnRfaWQiOiJhMjc2MTkyZC0xZTYyLTRlMTEtOWZmOC1hNzY3MjhmZWU4NzAiLCJlcGljLmVjaSI6InVybjplcGljOk9wZW4uRXBpYy1jdXJyZW50IiwiZXBpYy5tZXRhZGF0YSI6Im1XNTNOZm1Ed2dsNFpTUlc3WVpsUWpsTmZBM0FDMTdNcEx6Q0hGeVFsdjY3WUUwWFVVOHdwbkNkdE1CX25VNWJ1WXhrWms1Vm9Sdk81VU4tMVRySmR5QWh1VXdFWEVOQlRzc21zTVNvTHV6SGZOdFd0RXpXck1DcmJtYkdfMHhJIiwiZXBpYy50b2tlbnR5cGUiOiJjb2RlIiwiZXhwIjoxNjY5NTEwNjI2LCJpYXQiOjE2Njk1MTAzMjYsImlzcyI6InVybjpvaWQ6ZmhpciIsImp0aSI6IjUyMWU3ZGQzLTZlYWMtNDNhNS05NDY0LTUyZmI5Zjc1Y2QyOSIsIm5iZiI6MTY2OTUxMDMyNiwic3ViIjoiZWI0R2lhN0Z5aWp0UG1Ya3J0alJwUHczIn0.qVPsYXCNX23O7pgChHbmOlucSzVUtEk-E2-N-xlGP5oqob6lFGHqO9DMN9hbyAGO4ShVkmh6EMwAm961Bb1733cAxVXU2fKb4c3Zq3u2rtpW3nM6OMwLj_PAP79NUwEYZwWyWumdUynwqdgFYCsvvNd7WL1hLR4Q6d7TbOfQguhgm67MBz_lJ7BneBNxiKLE9BX8FHGTIB1k6vNtce2eUAfWoj1lMKDerrTR7TLc5wnrfabSwCKhJDq2d-TIFHvHpvZ04Krauqtx6MyyrA3QSWX_HYdhr6hDoFfv8bDJ_2F5gGfZWqcHTp85bw22jVXxpDDi5vPkvKdU686Ozc3plA',\n",
       " 'state': '9fdee0a4'}"
      ]
     },
     "execution_count": 13,
     "metadata": {},
     "output_type": "execute_result"
    }
   ],
   "source": [
    "args"
   ]
  },
  {
   "cell_type": "code",
   "execution_count": 14,
   "id": "8f6aea4b-2d70-4e7f-b279-13072d3771d5",
   "metadata": {},
   "outputs": [],
   "source": [
    "if url is None:\n",
    "    raise Exception(\"No callback URL received\")\n",
    "try:\n",
    "    args = dict(urlparse.parse_qsl(urlparse.urlsplit(url)[3]))\n",
    "except Exception as e:\n",
    "    raise Exception(\"Invalid callback URL: {0}\".format(e))"
   ]
  },
  {
   "cell_type": "code",
   "execution_count": 15,
   "id": "64fcc1fd-328e-430c-8ff7-ad13ce68c81b",
   "metadata": {},
   "outputs": [
    {
     "data": {
      "text/plain": [
       "{'code': 'eyJhbGciOiJSUzI1NiIsInR5cCI6IkpXVCJ9.eyJhdWQiOiJ1cm46b2lkOmZoaXIiLCJjbGllbnRfaWQiOiJhMjc2MTkyZC0xZTYyLTRlMTEtOWZmOC1hNzY3MjhmZWU4NzAiLCJlcGljLmVjaSI6InVybjplcGljOk9wZW4uRXBpYy1jdXJyZW50IiwiZXBpYy5tZXRhZGF0YSI6Im1XNTNOZm1Ed2dsNFpTUlc3WVpsUWpsTmZBM0FDMTdNcEx6Q0hGeVFsdjY3WUUwWFVVOHdwbkNkdE1CX25VNWJ1WXhrWms1Vm9Sdk81VU4tMVRySmR5QWh1VXdFWEVOQlRzc21zTVNvTHV6SGZOdFd0RXpXck1DcmJtYkdfMHhJIiwiZXBpYy50b2tlbnR5cGUiOiJjb2RlIiwiZXhwIjoxNjY5NTEwNjI2LCJpYXQiOjE2Njk1MTAzMjYsImlzcyI6InVybjpvaWQ6ZmhpciIsImp0aSI6IjUyMWU3ZGQzLTZlYWMtNDNhNS05NDY0LTUyZmI5Zjc1Y2QyOSIsIm5iZiI6MTY2OTUxMDMyNiwic3ViIjoiZWI0R2lhN0Z5aWp0UG1Ya3J0alJwUHczIn0.qVPsYXCNX23O7pgChHbmOlucSzVUtEk-E2-N-xlGP5oqob6lFGHqO9DMN9hbyAGO4ShVkmh6EMwAm961Bb1733cAxVXU2fKb4c3Zq3u2rtpW3nM6OMwLj_PAP79NUwEYZwWyWumdUynwqdgFYCsvvNd7WL1hLR4Q6d7TbOfQguhgm67MBz_lJ7BneBNxiKLE9BX8FHGTIB1k6vNtce2eUAfWoj1lMKDerrTR7TLc5wnrfabSwCKhJDq2d-TIFHvHpvZ04Krauqtx6MyyrA3QSWX_HYdhr6hDoFfv8bDJ_2F5gGfZWqcHTp85bw22jVXxpDDi5vPkvKdU686Ozc3plA',\n",
       " 'state': '9fdee0a4'}"
      ]
     },
     "execution_count": 15,
     "metadata": {},
     "output_type": "execute_result"
    }
   ],
   "source": [
    "args"
   ]
  },
  {
   "cell_type": "code",
   "execution_count": null,
   "id": "2c3f345e-ddc4-4271-9f3f-2caa6235c376",
   "metadata": {},
   "outputs": [],
   "source": []
  }
 ],
 "metadata": {
  "kernelspec": {
   "display_name": "Python 3 (ipykernel)",
   "language": "python",
   "name": "python3"
  },
  "language_info": {
   "codemirror_mode": {
    "name": "ipython",
    "version": 3
   },
   "file_extension": ".py",
   "mimetype": "text/x-python",
   "name": "python",
   "nbconvert_exporter": "python",
   "pygments_lexer": "ipython3",
   "version": "3.10.8"
  }
 },
 "nbformat": 4,
 "nbformat_minor": 5
}
