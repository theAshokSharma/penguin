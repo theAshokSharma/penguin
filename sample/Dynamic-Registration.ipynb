{
 "cells": [
  {
   "cell_type": "markdown",
   "id": "c6508238-87a7-405d-a896-4823640d5a7a",
   "metadata": {},
   "source": [
    "# Getting access to FHIR resources\n",
    "Once you have a service object, you can read and search all the resources advertised by the FHIR server.\n",
    "\n",
    "Normally, you'll create an authenticated version of a service using an OAuth2 token:\n",
    "\n",
    "```\n",
    "from fhirstorm import Connection\n",
    "from requests_oauthlib import OAuth2Session\n",
    "conn = Connection(\n",
    "    SMART_SERVICE_ROOT, \n",
    "    session=OAuth2Session(token=ACCESS_TOKEN))\n",
    "svc = conn.service()\n",
    "```\n",
    "For this tutorial, we'll just use the public SmartHealthIT sandboxes, and so we won't need to use authentication. The only differences are that we'll use the open endpoint and we won't worry about the session:"
   ]
  },
  {
   "cell_type": "code",
   "execution_count": null,
   "id": "1ec403be-42eb-4dd3-b769-cd83be86b638",
   "metadata": {},
   "outputs": [
    {
     "ename": "",
     "evalue": "",
     "output_type": "error",
     "traceback": [
      "\u001b[1;31mRunning cells with 'Python 3.11.0 ('.venv': venv)' requires ipykernel package.\n",
      "\u001b[1;31mRun the following command to install 'ipykernel' into the Python environment. \n",
      "\u001b[1;31mCommand: '/Users/ashoksharma/Developer/github/penguin/.venv/bin/python -m pip install ipykernel -U --force-reinstall'"
     ]
    }
   ],
   "source": [
    "\n",
    "SMART_SERVICE_ROOT = 'https://fhir.epic.com/interconnect-fhir-oauth/api/FHIR/R4/'\n"
   ]
  },
  {
   "cell_type": "code",
   "execution_count": 2,
   "id": "77426d8e-4435-49c7-bf11-c79d665586bd",
   "metadata": {},
   "outputs": [],
   "source": [
    "MANIFEST = {\n",
    "    \"software_id\": \"com.dolphin:penguin:1.0\",\n",
    "    \"client_name\": \"FHIRstorm auto-register text\",\n",
    "    \"launch_url\": \"http://localhost:8000/launch\",\n",
    "    \"redirect_uris\": [\n",
    "        \"http://localhost:8000/callback\"\n",
    "    ],\n",
    "    \"scope\": \"launch launch/patient openid profile patient/*.read\",\n",
    "    \"token_endpoint_auth_method\": \"client_secret_basic\",\n",
    "    \"grant_types\": [\n",
    "        \"authorization_code\", \"refresh_token\",\n",
    "    ],\n",
    "    \"response_types\": [\n",
    "        \"code\",\n",
    "    ],\n",
    "    \"fhir_versions\": [\n",
    "        \"1.0.2\",\n",
    "        \"1.1.0\",\n",
    "        \"1.4.0\",\n",
    "        \"1.6.0\",\n",
    "        \"1.8.0\",\n",
    "        \"3.0.1\",\n",
    "    ]\n",
    "}"
   ]
  },
  {
   "cell_type": "markdown",
   "id": "dff00ca6-5d22-4b26-b057-653a5789a005",
   "metadata": {},
   "source": [
    "from fhirstorm import Connection \n",
    "\n",
    "conn = Connection(SMART_SERVICE_ROOT)\n",
    "svc = conn.service()\n",
    "uris = svc.security.oauth2_uris\n",
    "reg_uri = uris.register\n",
    "reg_uri"
   ]
  },
  {
   "cell_type": "code",
   "execution_count": 3,
   "id": "4e4a3407-c2c7-4679-8e99-f72bd09a28d3",
   "metadata": {},
   "outputs": [
    {
     "ename": "NameError",
     "evalue": "name 'reg_uri' is not defined",
     "output_type": "error",
     "traceback": [
      "\u001b[0;31m---------------------------------------------------------------------------\u001b[0m",
      "\u001b[0;31mNameError\u001b[0m                                 Traceback (most recent call last)",
      "Cell \u001b[0;32mIn [3], line 4\u001b[0m\n\u001b[1;32m      1\u001b[0m \u001b[38;5;28;01mimport\u001b[39;00m \u001b[38;5;21;01mjson\u001b[39;00m\n\u001b[1;32m      2\u001b[0m \u001b[38;5;28;01mimport\u001b[39;00m \u001b[38;5;21;01mrequests\u001b[39;00m\n\u001b[1;32m      3\u001b[0m resp \u001b[38;5;241m=\u001b[39m requests\u001b[38;5;241m.\u001b[39mpost(\n\u001b[0;32m----> 4\u001b[0m     \u001b[43mreg_uri\u001b[49m, data\u001b[38;5;241m=\u001b[39mjson\u001b[38;5;241m.\u001b[39mdumps(MANIFEST),\n\u001b[1;32m      5\u001b[0m     headers\u001b[38;5;241m=\u001b[39m{\u001b[38;5;124m'\u001b[39m\u001b[38;5;124mContent-Type\u001b[39m\u001b[38;5;124m'\u001b[39m: \u001b[38;5;124m'\u001b[39m\u001b[38;5;124mapplication/json\u001b[39m\u001b[38;5;124m'\u001b[39m})\n\u001b[1;32m      6\u001b[0m registration \u001b[38;5;241m=\u001b[39m resp\u001b[38;5;241m.\u001b[39mjson()\n\u001b[1;32m      7\u001b[0m registration\n",
      "\u001b[0;31mNameError\u001b[0m: name 'reg_uri' is not defined"
     ]
    }
   ],
   "source": [
    "import json\n",
    "import requests\n",
    "resp = requests.post(\n",
    "    reg_uri, data=json.dumps(MANIFEST),\n",
    "    headers={'Content-Type': 'application/json'})\n",
    "registration = resp.json()\n",
    "registration"
   ]
  },
  {
   "cell_type": "code",
   "execution_count": null,
   "id": "65cd42d3-2cce-4e26-b717-917941c875ce",
   "metadata": {},
   "outputs": [],
   "source": []
  }
 ],
 "metadata": {
  "kernelspec": {
   "display_name": "Python 3.11.0 ('.venv': venv)",
   "language": "python",
   "name": "python3"
  },
  "language_info": {
   "codemirror_mode": {
    "name": "ipython",
    "version": 3
   },
   "file_extension": ".py",
   "mimetype": "text/x-python",
   "name": "python",
   "nbconvert_exporter": "python",
   "pygments_lexer": "ipython3",
   "version": "3.11.0"
  },
  "vscode": {
   "interpreter": {
    "hash": "3ab0a899c3d956cf62bda031c0ed8efcd2602272c5d6dcf1544265aaeee0a21b"
   }
  }
 },
 "nbformat": 4,
 "nbformat_minor": 5
}
