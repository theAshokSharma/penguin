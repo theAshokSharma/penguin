{
 "cells": [
  {
   "cell_type": "markdown",
   "id": "fff0bdd8-56b8-4c1d-ba43-4094867ae965",
   "metadata": {},
   "source": [
    "### OAuth2 using PKCE workflow\n",
    "###### https://www.stefaanlippens.net/oauth-code-flow-pkce.html\n",
    "###### "
   ]
  },
  {
   "cell_type": "code",
   "execution_count": 1,
   "id": "cc6dbc45-22db-436e-a048-c85654508c70",
   "metadata": {},
   "outputs": [],
   "source": [
    "import base64\n",
    "import hashlib\n",
    "import html\n",
    "import json\n",
    "import os\n",
    "import re\n",
    "import urllib.parse\n",
    "import requests"
   ]
  },
  {
   "cell_type": "code",
   "execution_count": 3,
   "id": "c6eec1b5-27c5-4f0d-bfde-15e2512193ef",
   "metadata": {},
   "outputs": [],
   "source": [
    "# keyCloak setup\n",
    "provider = \"http://localhost:9090/realms/master\"\n",
    "provider = \"https://fhir.epic.com/interconnect-fhir-oauth\"\n",
    "client_id = \"ashok-pkce-test\"\n",
    "username = \"ashoksharma\"\n",
    "password = \"ashok007\"\n",
    "redirect_uri = \"http://localhost:5465/fhir-app\""
   ]
  },
  {
   "cell_type": "markdown",
   "id": "85a00ee8-1143-4cb8-a3ef-d1f67d9e25ef",
   "metadata": {},
   "source": [
    "#### Connect to authentication provider\n",
    "The first phase of the flow is to connect to the OAuth/OpenID Connect provider and authenticate. For a PKCE-enabled flow we need a some PKCE ingredients from the start.\n",
    "\n",
    "#### PKCE code verifier and challenge\n",
    "We need a code verifier, which is a long enough random alphanumeric string, only to be used \"client side\". We'll use a simple urandom/base64 trick to generate one:"
   ]
  },
  {
   "cell_type": "code",
   "execution_count": 4,
   "id": "5a0991c8-c422-42e6-b505-738f3a9d34ea",
   "metadata": {},
   "outputs": [
    {
     "name": "stdout",
     "output_type": "stream",
     "text": [
      "8GS3mqQwPk2qisUgMoseYh4ujIsZ0M5pc-4OYCAb71PM9e24DJCrSA==\n"
     ]
    },
    {
     "data": {
      "text/plain": [
       "('8GS3mqQwPk2qisUgMoseYh4ujIsZ0M5pc4OYCAb71PM9e24DJCrSA', 53)"
      ]
     },
     "execution_count": 4,
     "metadata": {},
     "output_type": "execute_result"
    }
   ],
   "source": [
    "code_verifier = base64.urlsafe_b64encode(os.urandom(40)).decode('utf-8')\n",
    "print (code_verifier)\n",
    "code_verifier = re.sub('[^a-zA-Z0-9]+', '', code_verifier)\n",
    "code_verifier, len(code_verifier)"
   ]
  },
  {
   "cell_type": "markdown",
   "id": "2847a5cf-8285-4ec0-8f44-9924c44db583",
   "metadata": {},
   "source": [
    "To create the PKCE code challenge we hash the code verifier with SHA256 and encode the result in URL-safe base64 (without padding)"
   ]
  },
  {
   "cell_type": "code",
   "execution_count": 5,
   "id": "22dfb8ad-23d5-4f9c-87b0-c1903277e4c3",
   "metadata": {},
   "outputs": [
    {
     "data": {
      "text/plain": [
       "('PDtGAxj4vP4X0dSPyT2RP7vP46SOzsZMznBF9ZMCGI4', 43)"
      ]
     },
     "execution_count": 5,
     "metadata": {},
     "output_type": "execute_result"
    }
   ],
   "source": [
    "code_challenge = hashlib.sha256(code_verifier.encode('utf-8')).digest()\n",
    "code_challenge = base64.urlsafe_b64encode(code_challenge).decode('utf-8')\n",
    "code_challenge = code_challenge.replace('=', '')\n",
    "code_challenge, len(code_challenge)"
   ]
  },
  {
   "cell_type": "markdown",
   "id": "86286bb4-968c-48a0-9b09-0ac9ac70b4cf",
   "metadata": {},
   "source": [
    "#### Request login page\n",
    "We now have all the pieces for the initial request, which will give us the login page of the authentication provider. Adding the code challenge signals to the OAuth provider that we are expecting the PKCE based flow."
   ]
  },
  {
   "cell_type": "code",
   "execution_count": 7,
   "id": "f0c64f5b-fd18-47fd-b9b0-32b9268ec5b6",
   "metadata": {},
   "outputs": [
    {
     "data": {
      "text/plain": [
       "200"
      ]
     },
     "execution_count": 7,
     "metadata": {},
     "output_type": "execute_result"
    }
   ],
   "source": [
    "# \"/protocol/openid-connect/auth\",\n",
    "state = \"fooobarbaz\"\n",
    "resp = requests.get(\n",
    "    url=provider + \"/oauth2/authorize\",\n",
    "    params={\n",
    "        \"response_type\": \"code\",\n",
    "        \"client_id\": client_id,\n",
    "        \"scope\": \"openid\",\n",
    "        \"redirect_uri\": redirect_uri,\n",
    "        \"state\": state,\n",
    "        \"code_challenge\": code_challenge,\n",
    "        \"code_challenge_method\": \"S256\",\n",
    "    },\n",
    "    allow_redirects=False\n",
    ")\n",
    "resp.status_code"
   ]
  },
  {
   "cell_type": "markdown",
   "id": "135610ef-d00a-49a5-b0f8-2415f0920bbb",
   "metadata": {},
   "source": [
    "#### Parse login page (response)\n",
    "Get cookie data from response headers (requires a bit of manipulation)."
   ]
  },
  {
   "cell_type": "code",
   "execution_count": 8,
   "id": "061e2d8d-7ecf-4251-b151-670b1463fdc0",
   "metadata": {},
   "outputs": [
    {
     "data": {
      "text/plain": [
       "'ASP.NET_SessionId=acmcb2ru1hbmmms1ixjxauty; EpicPersistenceCookie=!U0RKL7YtVnZhTjpFItYMWnabEMGVKH+8PV+XzPCKK7TOWGvokDhQbVFkni+1hJeoIJoEy95bFgsjuOk='"
      ]
     },
     "execution_count": 8,
     "metadata": {},
     "output_type": "execute_result"
    }
   ],
   "source": [
    "cookie = resp.headers['Set-Cookie']\n",
    "cookie = '; '.join(c.split(';')[0] for c in cookie.split(', '))\n",
    "cookie"
   ]
  },
  {
   "cell_type": "markdown",
   "id": "be3f8b32-958f-4f2d-b4c3-048f3c3b15c8",
   "metadata": {},
   "source": [
    "Extract the login URL to post to from the page HTML code. Because the the Keycloak login page is straightforward HTML we can get away with some simple regexes."
   ]
  },
  {
   "cell_type": "code",
   "execution_count": 9,
   "id": "a58a8bf5-2242-48ad-81ea-0753ab24fc97",
   "metadata": {},
   "outputs": [
    {
     "ename": "AttributeError",
     "evalue": "'NoneType' object has no attribute 'group'",
     "output_type": "error",
     "traceback": [
      "\u001b[0;31m---------------------------------------------------------------------------\u001b[0m",
      "\u001b[0;31mAttributeError\u001b[0m                            Traceback (most recent call last)",
      "Cell \u001b[0;32mIn [9], line 2\u001b[0m\n\u001b[1;32m      1\u001b[0m page \u001b[38;5;241m=\u001b[39m resp\u001b[38;5;241m.\u001b[39mtext\n\u001b[0;32m----> 2\u001b[0m form_action \u001b[38;5;241m=\u001b[39m html\u001b[38;5;241m.\u001b[39munescape(\u001b[43mre\u001b[49m\u001b[38;5;241;43m.\u001b[39;49m\u001b[43msearch\u001b[49m\u001b[43m(\u001b[49m\u001b[38;5;124;43m'\u001b[39;49m\u001b[38;5;124;43m<form\u001b[39;49m\u001b[38;5;124;43m\\\u001b[39;49m\u001b[38;5;124;43ms+.*?\u001b[39;49m\u001b[38;5;124;43m\\\u001b[39;49m\u001b[38;5;124;43ms+action=\u001b[39;49m\u001b[38;5;124;43m\"\u001b[39;49m\u001b[38;5;124;43m(.*?)\u001b[39;49m\u001b[38;5;124;43m\"\u001b[39;49m\u001b[38;5;124;43m'\u001b[39;49m\u001b[43m,\u001b[49m\u001b[43m \u001b[49m\u001b[43mpage\u001b[49m\u001b[43m,\u001b[49m\u001b[43m \u001b[49m\u001b[43mre\u001b[49m\u001b[38;5;241;43m.\u001b[39;49m\u001b[43mDOTALL\u001b[49m\u001b[43m)\u001b[49m\u001b[38;5;241;43m.\u001b[39;49m\u001b[43mgroup\u001b[49m(\u001b[38;5;241m1\u001b[39m))\n\u001b[1;32m      3\u001b[0m form_action\n",
      "\u001b[0;31mAttributeError\u001b[0m: 'NoneType' object has no attribute 'group'"
     ]
    }
   ],
   "source": [
    "page = resp.text\n",
    "form_action = html.unescape(re.search('<form\\s+.*?\\s+action=\"(.*?)\"', page, re.DOTALL).group(1))\n",
    "form_action"
   ]
  },
  {
   "cell_type": "code",
   "execution_count": null,
   "id": "fb86f1c2",
   "metadata": {},
   "outputs": [],
   "source": [
    "print(page)"
   ]
  },
  {
   "cell_type": "markdown",
   "id": "694db9e4-9864-46da-841e-dee8d6086235",
   "metadata": {
    "tags": []
   },
   "source": [
    "#### Do the login (aka authenticate)\n",
    "Now, we post the login form with the user we created earlier, passing it the extracted cookie as well."
   ]
  },
  {
   "cell_type": "code",
   "execution_count": null,
   "id": "ed44d815-9b53-42ae-af04-fbc3ddad3435",
   "metadata": {},
   "outputs": [],
   "source": [
    "resp = requests.post(\n",
    "    url=form_action, \n",
    "    data={\n",
    "        \"username\": username,\n",
    "        \"password\": password,\n",
    "    }, \n",
    "    headers={\"Cookie\": cookie},\n",
    "    allow_redirects=False\n",
    ")\n",
    "resp.status_code"
   ]
  },
  {
   "cell_type": "code",
   "execution_count": null,
   "id": "36bcff35-7111-4a89-98d5-f34e5997eda9",
   "metadata": {},
   "outputs": [],
   "source": [
    "redirect = resp.headers['Location']\n",
    "redirect"
   ]
  },
  {
   "cell_type": "code",
   "execution_count": null,
   "id": "168a36b1-0354-457f-beb4-243c478c7482",
   "metadata": {},
   "outputs": [],
   "source": [
    "assert redirect.startswith(redirect_uri)"
   ]
  },
  {
   "cell_type": "markdown",
   "id": "0c4d1baa-1fcf-40f7-a920-85fe7437828a",
   "metadata": {},
   "source": [
    "#### Extract authorization code from redirect\n",
    "The redirect URL contains the authentication code."
   ]
  },
  {
   "cell_type": "code",
   "execution_count": null,
   "id": "45b1177f-acd1-48de-8a81-502ced2693e3",
   "metadata": {},
   "outputs": [],
   "source": [
    "query = urllib.parse.urlparse(redirect).query\n",
    "redirect_params = urllib.parse.parse_qs(query)\n",
    "redirect_params"
   ]
  },
  {
   "cell_type": "code",
   "execution_count": null,
   "id": "0b3241d4-4bf9-4025-bffc-ebea9f004622",
   "metadata": {},
   "outputs": [],
   "source": [
    "auth_code = redirect_params['code'][0]\n",
    "auth_code"
   ]
  },
  {
   "cell_type": "markdown",
   "id": "1c506df8-2509-4e55-a33d-5fb2b8c648ce",
   "metadata": {},
   "source": [
    "### Exchange authorization code for an access token\n",
    "We can now exchange the authorization code for an access token. In the normal OAuth authorization flow we should include a static secret here, but instead we provide the code verifier here which acts proof that the initial request was done by us."
   ]
  },
  {
   "cell_type": "code",
   "execution_count": null,
   "id": "75c1ecd3-cd0c-44dc-8407-9b75b171bb7b",
   "metadata": {},
   "outputs": [],
   "source": [
    "resp = requests.post(\n",
    "    url=provider + \"/protocol/openid-connect/token\",\n",
    "    data={\n",
    "        \"grant_type\": \"authorization_code\",\n",
    "        \"client_id\": client_id,\n",
    "        \"redirect_uri\": redirect_uri,\n",
    "        \"code\": auth_code,\n",
    "        \"code_verifier\": code_verifier,\n",
    "    },\n",
    "    allow_redirects=False\n",
    ")\n",
    "resp.status_code"
   ]
  },
  {
   "cell_type": "markdown",
   "id": "847b529e-4c04-480e-a0d5-146ded6dcb76",
   "metadata": {},
   "source": [
    "In the response we get, among others, the access token and id token:"
   ]
  },
  {
   "cell_type": "code",
   "execution_count": null,
   "id": "3c2e4786-c6e6-4f8e-8445-d27136dd6ee0",
   "metadata": {},
   "outputs": [],
   "source": [
    "result = resp.json()\n",
    "result"
   ]
  },
  {
   "cell_type": "markdown",
   "id": "e13f4304-1d34-4bae-94eb-33b702501028",
   "metadata": {},
   "source": [
    "### Decode the JWT tokens\n",
    "The access and id tokens are JWT tokens apparently. Let's decode the payload."
   ]
  },
  {
   "cell_type": "code",
   "execution_count": null,
   "id": "558c2a7b-953a-4818-80da-00942fde64dc",
   "metadata": {},
   "outputs": [],
   "source": [
    "def _b64_decode(data):\n",
    "    data += '=' * (4 - len(data) % 4)\n",
    "    return base64.b64decode(data).decode('utf-8')\n",
    "\n",
    "def jwt_payload_decode(jwt):\n",
    "    _, payload, _ = jwt.split('.')\n",
    "    return json.loads(_b64_decode(payload))"
   ]
  },
  {
   "cell_type": "code",
   "execution_count": null,
   "id": "9e81d3c8-4ed9-45c4-857d-5c14f1cf6c25",
   "metadata": {},
   "outputs": [],
   "source": [
    "jwt_payload_decode(result['access_token'])"
   ]
  },
  {
   "cell_type": "code",
   "execution_count": null,
   "id": "ebd96e16-b731-4783-862c-36a8c7d2b2f6",
   "metadata": {},
   "outputs": [],
   "source": [
    "jwt_payload_decode(result['id_token'])"
   ]
  }
 ],
 "metadata": {
  "kernelspec": {
   "display_name": "Python 3 (ipykernel)",
   "language": "python",
   "name": "python3"
  },
  "language_info": {
   "codemirror_mode": {
    "name": "ipython",
    "version": 3
   },
   "file_extension": ".py",
   "mimetype": "text/x-python",
   "name": "python",
   "nbconvert_exporter": "python",
   "pygments_lexer": "ipython3",
   "version": "3.11.0 (v3.11.0:deaf509e8f, Oct 24 2022, 14:43:23) [Clang 13.0.0 (clang-1300.0.29.30)]"
  },
  "vscode": {
   "interpreter": {
    "hash": "3ab0a899c3d956cf62bda031c0ed8efcd2602272c5d6dcf1544265aaeee0a21b"
   }
  }
 },
 "nbformat": 4,
 "nbformat_minor": 5
}
