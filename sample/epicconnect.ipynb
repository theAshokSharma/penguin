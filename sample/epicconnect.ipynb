{
 "cells": [
  {
   "cell_type": "code",
   "execution_count": 1,
   "id": "0fcc8267-dabb-4f11-ae20-d662408fd51a",
   "metadata": {},
   "outputs": [],
   "source": [
    "import datetime\n",
    "import json\n",
    "import os\n",
    "import uuid\n",
    "\n",
    "import requests\n",
    "from authlib.jose import jwt\n",
    "\n",
    "from fhirpy import SyncFHIRClient"
   ]
  },
  {
   "cell_type": "code",
   "execution_count": 2,
   "id": "661e6f92-3b13-4978-96e3-9d61ea7faddd",
   "metadata": {},
   "outputs": [],
   "source": [
    "BASE_URL = \"https://fhir.epic.com/interconnect-fhir-oauth\""
   ]
  },
  {
   "cell_type": "code",
   "execution_count": 3,
   "id": "b866beb4-8fab-4b02-8632-4b1b0794633c",
   "metadata": {},
   "outputs": [],
   "source": [
    "# Token expiration time should not be more then 5 minutes since the current\n",
    "exp = int((datetime.datetime.now() + datetime.timedelta(minutes=4)).timestamp())\n",
    "\n",
    "# https://fhir.epic.com/Documentation?docId=oauth2&section=Creating-JWTs\n",
    "jwt_header = {\"alg\": \"RS384\", \"typ\": \"JWT\"}\n",
    "payload = {\n",
    "    \"iss\": \"\", # non-production ID, see screnshort below\n",
    "    \"sub\": \"\", # non-production ID, see screnshort below\n",
    "    \"aud\": f\"{BASE_URL}/oauth2/token\",\n",
    "    \"jti\": str(uuid.uuid4()), # should be uniq for every token request within the exp \n",
    "    \"exp\": exp,\n",
    "}"
   ]
  },
  {
   "cell_type": "code",
   "execution_count": 4,
   "id": "eee75e04-67f2-4e2d-afea-0d3888a92fba",
   "metadata": {},
   "outputs": [],
   "source": [
    "# https://fhir.epic.com/Documentation?docId=oauth2&section=Creating-Key-Pair_OpenSSL\n",
    "with open(\"privatekey.pem\") as f: # path to generated private .pem file\n",
    "    private_key = f.read()"
   ]
  },
  {
   "cell_type": "code",
   "execution_count": 5,
   "id": "8deeaa77-5bfb-4835-9dcf-1d24cdc5c5cf",
   "metadata": {},
   "outputs": [],
   "source": [
    "# You can read the file with private key\n",
    "# or use its content as a string variable for testing purposes\n",
    "encoded_token = jwt.encode(jwt_header, payload, private_key)"
   ]
  },
  {
   "cell_type": "code",
   "execution_count": 7,
   "id": "e9044adb-1142-4bf2-9ffa-6f795afbc2ed",
   "metadata": {},
   "outputs": [],
   "source": [
    "# https://fhir.epic.com/Documentation?docId=oauth2&section=Backend-Oauth2_Access-Token-Request\n",
    "data = {\n",
    "    \"grant_type\": \"client_credentials\",\n",
    "    \"client_id\": \"6079e18c-b8d7-48a8-b87a-e5a74b68e0af\",\n",
    "    \"client_assertion_type\": \"urn:ietf:params:oauth:client-assertion-type:jwt-bearer\",\n",
    "    \"client_assertion\": encoded_token\n",
    "}\n",
    "headers = requests.structures.CaseInsensitiveDict(\n",
    "    [(\"Content-Type\", \"application/x-www-form-urlencoded\")]\n",
    ")"
   ]
  },
  {
   "cell_type": "code",
   "execution_count": 8,
   "id": "d10cdb4e-f7fc-43ba-bc78-2a4ba21c8361",
   "metadata": {},
   "outputs": [
    {
     "name": "stdout",
     "output_type": "stream",
     "text": [
      "{\n",
      "    \"error\": \"invalid_client\",\n",
      "    \"error_description\": null\n",
      "}\n"
     ]
    }
   ],
   "source": [
    "response = requests.post(\n",
    "    f\"{BASE_URL}/oauth2/token\",\n",
    "    headers=headers,\n",
    "    data=data,\n",
    ")\n",
    "print(json.dumps(response.json(), indent=4, separators=(',', ': ')))"
   ]
  },
  {
   "cell_type": "code",
   "execution_count": 9,
   "id": "ae80b8cf-3f70-462b-8cc2-6b40c8fa23a7",
   "metadata": {},
   "outputs": [
    {
     "ename": "KeyError",
     "evalue": "'access_token'",
     "output_type": "error",
     "traceback": [
      "\u001b[0;31m---------------------------------------------------------------------------\u001b[0m",
      "\u001b[0;31mKeyError\u001b[0m                                  Traceback (most recent call last)",
      "Cell \u001b[0;32mIn[9], line 1\u001b[0m\n\u001b[0;32m----> 1\u001b[0m access_token \u001b[38;5;241m=\u001b[39m \u001b[43mresponse\u001b[49m\u001b[38;5;241;43m.\u001b[39;49m\u001b[43mjson\u001b[49m\u001b[43m(\u001b[49m\u001b[43m)\u001b[49m\u001b[43m[\u001b[49m\u001b[38;5;124;43m\"\u001b[39;49m\u001b[38;5;124;43maccess_token\u001b[39;49m\u001b[38;5;124;43m\"\u001b[39;49m\u001b[43m]\u001b[49m\n",
      "\u001b[0;31mKeyError\u001b[0m: 'access_token'"
     ]
    }
   ],
   "source": [
    "access_token = response.json()[\"access_token\"]"
   ]
  },
  {
   "cell_type": "markdown",
   "id": "f3c04e09-4572-46f3-9953-697670947997",
   "metadata": {},
   "source": [
    "#### init FHIRClient"
   ]
  },
  {
   "cell_type": "code",
   "execution_count": null,
   "id": "e85dfcf1-ca22-4d2b-87eb-389376e18e3d",
   "metadata": {},
   "outputs": [],
   "source": [
    "FHIR_BASE_URL = f\"{BASE_URL}/api/FHIR/R4\""
   ]
  },
  {
   "cell_type": "code",
   "execution_count": null,
   "id": "8d436de0-a8be-4965-a28c-5df33a5a3d09",
   "metadata": {},
   "outputs": [],
   "source": [
    "client = SyncFHIRClient(\n",
    "    FHIR_BASE_URL,\n",
    "    authorization=f\"Bearer {access_token}\",\n",
    ")\n",
    "client"
   ]
  },
  {
   "cell_type": "markdown",
   "id": "c4732fab-45b6-48ef-adf9-2d9ae9328222",
   "metadata": {},
   "source": [
    "#### Get Patient"
   ]
  },
  {
   "cell_type": "code",
   "execution_count": null,
   "id": "0a91a86d-d2b6-4db4-8fe9-794337729c95",
   "metadata": {},
   "outputs": [],
   "source": [
    "# https://fhir.epic.com/Sandbox?api=931\n",
    "patient = client.reference(\"Patient\", \"eJzlzKe3KPzAV5TtkxmNivQ3\").to_resource().serialize()\n",
    "\n",
    "print(json.dumps(patient, indent=2, separators=(',', ': ')))"
   ]
  }
 ],
 "metadata": {
  "kernelspec": {
   "display_name": "Python 3 (ipykernel)",
   "language": "python",
   "name": "python3"
  },
  "language_info": {
   "codemirror_mode": {
    "name": "ipython",
    "version": 3
   },
   "file_extension": ".py",
   "mimetype": "text/x-python",
   "name": "python",
   "nbconvert_exporter": "python",
   "pygments_lexer": "ipython3",
   "version": "3.10.8"
  }
 },
 "nbformat": 4,
 "nbformat_minor": 5
}
